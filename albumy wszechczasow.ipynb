{
 "cells": [
  {
   "cell_type": "code",
   "execution_count": 16,
   "id": "fa2b188a-3d8c-4990-aa4c-9dece1c6dfc9",
   "metadata": {},
   "outputs": [],
   "source": [
    "import pandas as pd\n",
    "import numpy as np"
   ]
  },
  {
   "cell_type": "code",
   "execution_count": 17,
   "id": "48667ccd-d4f8-429c-ab57-737544d7a7f2",
   "metadata": {},
   "outputs": [],
   "source": [
    "tables=pd.read_html('https://www.officialcharts.com/chart-news/the-best-selling-albums-of-all-time-on-the-official-uk-chart__15551/',header=0)\n",
    "df=tables[0]\n",
    "\n"
   ]
  },
  {
   "cell_type": "code",
   "execution_count": 18,
   "id": "8253697e-4ee6-4d7c-a8cc-1e80163d74c9",
   "metadata": {},
   "outputs": [
    {
     "data": {
      "text/html": [
       "<div>\n",
       "<style scoped>\n",
       "    .dataframe tbody tr th:only-of-type {\n",
       "        vertical-align: middle;\n",
       "    }\n",
       "\n",
       "    .dataframe tbody tr th {\n",
       "        vertical-align: top;\n",
       "    }\n",
       "\n",
       "    .dataframe thead th {\n",
       "        text-align: right;\n",
       "    }\n",
       "</style>\n",
       "<table border=\"1\" class=\"dataframe\">\n",
       "  <thead>\n",
       "    <tr style=\"text-align: right;\">\n",
       "      <th></th>\n",
       "      <th>POS</th>\n",
       "      <th>TITLE</th>\n",
       "      <th>ARTIST</th>\n",
       "      <th>YEAR</th>\n",
       "      <th>HIGH POSN</th>\n",
       "    </tr>\n",
       "  </thead>\n",
       "  <tbody>\n",
       "    <tr>\n",
       "      <th>0</th>\n",
       "      <td>1</td>\n",
       "      <td>GREATEST HITS</td>\n",
       "      <td>QUEEN</td>\n",
       "      <td>1981</td>\n",
       "      <td>1</td>\n",
       "    </tr>\n",
       "    <tr>\n",
       "      <th>1</th>\n",
       "      <td>2</td>\n",
       "      <td>GOLD - GREATEST HITS</td>\n",
       "      <td>ABBA</td>\n",
       "      <td>1992</td>\n",
       "      <td>1</td>\n",
       "    </tr>\n",
       "    <tr>\n",
       "      <th>2</th>\n",
       "      <td>3</td>\n",
       "      <td>SGT PEPPER'S LONELY HEARTS CLUB BAND</td>\n",
       "      <td>BEATLES</td>\n",
       "      <td>1967</td>\n",
       "      <td>1</td>\n",
       "    </tr>\n",
       "    <tr>\n",
       "      <th>3</th>\n",
       "      <td>4</td>\n",
       "      <td>21</td>\n",
       "      <td>ADELE</td>\n",
       "      <td>2011</td>\n",
       "      <td>1</td>\n",
       "    </tr>\n",
       "    <tr>\n",
       "      <th>4</th>\n",
       "      <td>5</td>\n",
       "      <td>WHAT'S THE STORY MORNING GLORY</td>\n",
       "      <td>OASIS</td>\n",
       "      <td>1995</td>\n",
       "      <td>1</td>\n",
       "    </tr>\n",
       "    <tr>\n",
       "      <th>5</th>\n",
       "      <td>6</td>\n",
       "      <td>THRILLER</td>\n",
       "      <td>MICHAEL JACKSON</td>\n",
       "      <td>1982</td>\n",
       "      <td>1</td>\n",
       "    </tr>\n",
       "    <tr>\n",
       "      <th>6</th>\n",
       "      <td>7</td>\n",
       "      <td>THE DARK SIDE OF THE MOON</td>\n",
       "      <td>PINK FLOYD</td>\n",
       "      <td>1973</td>\n",
       "      <td>2</td>\n",
       "    </tr>\n",
       "    <tr>\n",
       "      <th>7</th>\n",
       "      <td>8</td>\n",
       "      <td>BROTHERS IN ARMS</td>\n",
       "      <td>DIRE STRAITS</td>\n",
       "      <td>1985</td>\n",
       "      <td>1</td>\n",
       "    </tr>\n",
       "    <tr>\n",
       "      <th>8</th>\n",
       "      <td>9</td>\n",
       "      <td>BAD</td>\n",
       "      <td>MICHAEL JACKSON</td>\n",
       "      <td>1987</td>\n",
       "      <td>1</td>\n",
       "    </tr>\n",
       "    <tr>\n",
       "      <th>9</th>\n",
       "      <td>10</td>\n",
       "      <td>GREATEST HITS II</td>\n",
       "      <td>QUEEN</td>\n",
       "      <td>1991</td>\n",
       "      <td>1</td>\n",
       "    </tr>\n",
       "  </tbody>\n",
       "</table>\n",
       "</div>"
      ],
      "text/plain": [
       "   POS                                 TITLE           ARTIST  YEAR  HIGH POSN\n",
       "0    1                         GREATEST HITS            QUEEN  1981          1\n",
       "1    2                  GOLD - GREATEST HITS             ABBA  1992          1\n",
       "2    3  SGT PEPPER'S LONELY HEARTS CLUB BAND          BEATLES  1967          1\n",
       "3    4                                    21            ADELE  2011          1\n",
       "4    5        WHAT'S THE STORY MORNING GLORY            OASIS  1995          1\n",
       "5    6                              THRILLER  MICHAEL JACKSON  1982          1\n",
       "6    7             THE DARK SIDE OF THE MOON       PINK FLOYD  1973          2\n",
       "7    8                      BROTHERS IN ARMS     DIRE STRAITS  1985          1\n",
       "8    9                                   BAD  MICHAEL JACKSON  1987          1\n",
       "9   10                      GREATEST HITS II            QUEEN  1991          1"
      ]
     },
     "execution_count": 18,
     "metadata": {},
     "output_type": "execute_result"
    }
   ],
   "source": [
    "df.head(10)"
   ]
  },
  {
   "cell_type": "markdown",
   "id": "b4f6d32a-c73c-4c28-bc76-178a6537efff",
   "metadata": {},
   "source": [
    "## Zamień nagłówki kolumn na polskie odpowiedniki: ['TYTUŁ','ARTYSTA','ROK','MAX POZ']"
   ]
  },
  {
   "cell_type": "code",
   "execution_count": 19,
   "id": "6628c7ed-79e8-4097-a8f8-7eff99c5f094",
   "metadata": {},
   "outputs": [
    {
     "data": {
      "text/html": [
       "<div>\n",
       "<style scoped>\n",
       "    .dataframe tbody tr th:only-of-type {\n",
       "        vertical-align: middle;\n",
       "    }\n",
       "\n",
       "    .dataframe tbody tr th {\n",
       "        vertical-align: top;\n",
       "    }\n",
       "\n",
       "    .dataframe thead th {\n",
       "        text-align: right;\n",
       "    }\n",
       "</style>\n",
       "<table border=\"1\" class=\"dataframe\">\n",
       "  <thead>\n",
       "    <tr style=\"text-align: right;\">\n",
       "      <th></th>\n",
       "      <th>POS</th>\n",
       "      <th>TYTUL</th>\n",
       "      <th>ARTYSTA</th>\n",
       "      <th>ROK</th>\n",
       "      <th>MAX POZ</th>\n",
       "    </tr>\n",
       "  </thead>\n",
       "  <tbody>\n",
       "    <tr>\n",
       "      <th>0</th>\n",
       "      <td>1</td>\n",
       "      <td>GREATEST HITS</td>\n",
       "      <td>QUEEN</td>\n",
       "      <td>1981</td>\n",
       "      <td>1</td>\n",
       "    </tr>\n",
       "    <tr>\n",
       "      <th>1</th>\n",
       "      <td>2</td>\n",
       "      <td>GOLD - GREATEST HITS</td>\n",
       "      <td>ABBA</td>\n",
       "      <td>1992</td>\n",
       "      <td>1</td>\n",
       "    </tr>\n",
       "    <tr>\n",
       "      <th>2</th>\n",
       "      <td>3</td>\n",
       "      <td>SGT PEPPER'S LONELY HEARTS CLUB BAND</td>\n",
       "      <td>BEATLES</td>\n",
       "      <td>1967</td>\n",
       "      <td>1</td>\n",
       "    </tr>\n",
       "    <tr>\n",
       "      <th>3</th>\n",
       "      <td>4</td>\n",
       "      <td>21</td>\n",
       "      <td>ADELE</td>\n",
       "      <td>2011</td>\n",
       "      <td>1</td>\n",
       "    </tr>\n",
       "    <tr>\n",
       "      <th>4</th>\n",
       "      <td>5</td>\n",
       "      <td>WHAT'S THE STORY MORNING GLORY</td>\n",
       "      <td>OASIS</td>\n",
       "      <td>1995</td>\n",
       "      <td>1</td>\n",
       "    </tr>\n",
       "  </tbody>\n",
       "</table>\n",
       "</div>"
      ],
      "text/plain": [
       "   POS                                 TYTUL  ARTYSTA   ROK  MAX POZ\n",
       "0    1                         GREATEST HITS    QUEEN  1981        1\n",
       "1    2                  GOLD - GREATEST HITS     ABBA  1992        1\n",
       "2    3  SGT PEPPER'S LONELY HEARTS CLUB BAND  BEATLES  1967        1\n",
       "3    4                                    21    ADELE  2011        1\n",
       "4    5        WHAT'S THE STORY MORNING GLORY    OASIS  1995        1"
      ]
     },
     "execution_count": 19,
     "metadata": {},
     "output_type": "execute_result"
    }
   ],
   "source": [
    "df.rename(columns={'TITLE':'TYTUL','ARTIST':'ARTYSTA','YEAR':'ROK','HIGH POSN':'MAX POZ'},inplace=True)\n",
    "df.head()\n"
   ]
  },
  {
   "cell_type": "code",
   "execution_count": null,
   "id": "474a0f60-0105-4957-8ae8-e82b3cffa224",
   "metadata": {},
   "outputs": [],
   "source": []
  },
  {
   "cell_type": "markdown",
   "id": "82c60f63-0d15-4b41-8e2d-24ebc59502b9",
   "metadata": {},
   "source": [
    "## Ilu pojedynczych artystów znajduje się na liście?"
   ]
  },
  {
   "cell_type": "code",
   "execution_count": 20,
   "id": "29340d84-57a3-4084-928d-7081a5ae0a33",
   "metadata": {},
   "outputs": [
    {
     "data": {
      "text/plain": [
       "47"
      ]
     },
     "execution_count": 20,
     "metadata": {},
     "output_type": "execute_result"
    }
   ],
   "source": [
    "df['ARTYSTA'].nunique()"
   ]
  },
  {
   "cell_type": "markdown",
   "id": "44b7a131-76f8-4f29-a311-034765aedb2d",
   "metadata": {},
   "source": [
    "## Które zespoły pojawiają się najczęściej na liście?"
   ]
  },
  {
   "cell_type": "code",
   "execution_count": 21,
   "id": "805877ec-b284-4ae0-b2ac-f494607dd01e",
   "metadata": {},
   "outputs": [
    {
     "data": {
      "text/plain": [
       "ARTYSTA\n",
       "COLDPLAY                    3\n",
       "TAKE THAT                   3\n",
       "FLEETWOOD MAC               2\n",
       "ABBA                        2\n",
       "DIDO                        2\n",
       "ORIGINAL SOUNDTRACK         2\n",
       "QUEEN                       2\n",
       "ROBBIE WILLIAMS             2\n",
       "BEATLES                     2\n",
       "MICHAEL JACKSON             2\n",
       "ADELE                       2\n",
       "SNOW PATROL                 1\n",
       "KEANE                       1\n",
       "U2                          1\n",
       "JEFF WAYNE                  1\n",
       "SCISSOR SISTERS             1\n",
       "PHIL COLLINS                1\n",
       "GEORGE MICHAEL              1\n",
       "EMINEM                      1\n",
       "MIKE OLDFIELD               1\n",
       "TRAVIS                      1\n",
       "TRACY CHAPMAN               1\n",
       "ED SHEERAN                  1\n",
       "NORAH JONES                 1\n",
       "PAUL SIMON                  1\n",
       "ORIGINAL CAST RECORDING     1\n",
       "ALANIS MORISSETTE           1\n",
       "CORRS                       1\n",
       "KINGS OF LEON               1\n",
       "BOB MARLEY & THE WAILERS    1\n",
       "OASIS                       1\n",
       "PINK FLOYD                  1\n",
       "DIRE STRAITS                1\n",
       "MADONNA                     1\n",
       "AMY WINEHOUSE               1\n",
       "SIMPLY RED                  1\n",
       "SHANIA TWAIN                1\n",
       "JAMES BLUNT                 1\n",
       "LADY GAGA                   1\n",
       "VERVE                       1\n",
       "MEAT LOAF                   1\n",
       "SIMON & GARFUNKEL           1\n",
       "LEONA LEWIS                 1\n",
       "MICHAEL BUBLE               1\n",
       "DAVID GRAY                  1\n",
       "SPICE GIRLS                 1\n",
       "REM                         1\n",
       "Name: count, dtype: int64"
      ]
     },
     "execution_count": 21,
     "metadata": {},
     "output_type": "execute_result"
    }
   ],
   "source": [
    "df['ARTYSTA'].value_counts()"
   ]
  },
  {
   "cell_type": "code",
   "execution_count": null,
   "id": "567987ac-e661-4d4d-87d4-feeef7b65a94",
   "metadata": {},
   "outputs": [],
   "source": []
  },
  {
   "cell_type": "markdown",
   "id": "e4777acb-b949-4c4f-91b4-847f3800b316",
   "metadata": {},
   "source": [
    "## Zmień nagłówki kolumn, tak aby każdy z nich rozpoczynał się od wielkiej litery, a pozostałe były wprowadzone małymi literami."
   ]
  },
  {
   "cell_type": "code",
   "execution_count": 22,
   "id": "824f9674-8c95-4cc7-b818-015ae87dd8c7",
   "metadata": {},
   "outputs": [
    {
     "data": {
      "text/html": [
       "<div>\n",
       "<style scoped>\n",
       "    .dataframe tbody tr th:only-of-type {\n",
       "        vertical-align: middle;\n",
       "    }\n",
       "\n",
       "    .dataframe tbody tr th {\n",
       "        vertical-align: top;\n",
       "    }\n",
       "\n",
       "    .dataframe thead th {\n",
       "        text-align: right;\n",
       "    }\n",
       "</style>\n",
       "<table border=\"1\" class=\"dataframe\">\n",
       "  <thead>\n",
       "    <tr style=\"text-align: right;\">\n",
       "      <th></th>\n",
       "      <th>Pos</th>\n",
       "      <th>Tytul</th>\n",
       "      <th>Artysta</th>\n",
       "      <th>Rok</th>\n",
       "      <th>Max poz</th>\n",
       "    </tr>\n",
       "  </thead>\n",
       "  <tbody>\n",
       "    <tr>\n",
       "      <th>0</th>\n",
       "      <td>1</td>\n",
       "      <td>GREATEST HITS</td>\n",
       "      <td>QUEEN</td>\n",
       "      <td>1981</td>\n",
       "      <td>1</td>\n",
       "    </tr>\n",
       "    <tr>\n",
       "      <th>1</th>\n",
       "      <td>2</td>\n",
       "      <td>GOLD - GREATEST HITS</td>\n",
       "      <td>ABBA</td>\n",
       "      <td>1992</td>\n",
       "      <td>1</td>\n",
       "    </tr>\n",
       "    <tr>\n",
       "      <th>2</th>\n",
       "      <td>3</td>\n",
       "      <td>SGT PEPPER'S LONELY HEARTS CLUB BAND</td>\n",
       "      <td>BEATLES</td>\n",
       "      <td>1967</td>\n",
       "      <td>1</td>\n",
       "    </tr>\n",
       "    <tr>\n",
       "      <th>3</th>\n",
       "      <td>4</td>\n",
       "      <td>21</td>\n",
       "      <td>ADELE</td>\n",
       "      <td>2011</td>\n",
       "      <td>1</td>\n",
       "    </tr>\n",
       "    <tr>\n",
       "      <th>4</th>\n",
       "      <td>5</td>\n",
       "      <td>WHAT'S THE STORY MORNING GLORY</td>\n",
       "      <td>OASIS</td>\n",
       "      <td>1995</td>\n",
       "      <td>1</td>\n",
       "    </tr>\n",
       "  </tbody>\n",
       "</table>\n",
       "</div>"
      ],
      "text/plain": [
       "   Pos                                 Tytul  Artysta   Rok  Max poz\n",
       "0    1                         GREATEST HITS    QUEEN  1981        1\n",
       "1    2                  GOLD - GREATEST HITS     ABBA  1992        1\n",
       "2    3  SGT PEPPER'S LONELY HEARTS CLUB BAND  BEATLES  1967        1\n",
       "3    4                                    21    ADELE  2011        1\n",
       "4    5        WHAT'S THE STORY MORNING GLORY    OASIS  1995        1"
      ]
     },
     "execution_count": 22,
     "metadata": {},
     "output_type": "execute_result"
    }
   ],
   "source": [
    "\n",
    "    \n",
    "\n",
    "df.columns=df.columns=[x.capitalize() for x in df.columns]\n",
    "df.head()\n",
    "\n"
   ]
  },
  {
   "cell_type": "markdown",
   "id": "fac9c3e1-4619-49d7-a5a7-57143aa00e77",
   "metadata": {},
   "source": [
    "## Wyrzuć z tabeli kolumnę ‘Max Poz’"
   ]
  },
  {
   "cell_type": "code",
   "execution_count": 23,
   "id": "0cd85c22-db40-46b8-a2c2-eb91b6d6679b",
   "metadata": {},
   "outputs": [
    {
     "data": {
      "text/html": [
       "<div>\n",
       "<style scoped>\n",
       "    .dataframe tbody tr th:only-of-type {\n",
       "        vertical-align: middle;\n",
       "    }\n",
       "\n",
       "    .dataframe tbody tr th {\n",
       "        vertical-align: top;\n",
       "    }\n",
       "\n",
       "    .dataframe thead th {\n",
       "        text-align: right;\n",
       "    }\n",
       "</style>\n",
       "<table border=\"1\" class=\"dataframe\">\n",
       "  <thead>\n",
       "    <tr style=\"text-align: right;\">\n",
       "      <th></th>\n",
       "      <th>Pos</th>\n",
       "      <th>Tytul</th>\n",
       "      <th>Artysta</th>\n",
       "      <th>Rok</th>\n",
       "    </tr>\n",
       "  </thead>\n",
       "  <tbody>\n",
       "    <tr>\n",
       "      <th>0</th>\n",
       "      <td>1</td>\n",
       "      <td>GREATEST HITS</td>\n",
       "      <td>QUEEN</td>\n",
       "      <td>1981</td>\n",
       "    </tr>\n",
       "    <tr>\n",
       "      <th>1</th>\n",
       "      <td>2</td>\n",
       "      <td>GOLD - GREATEST HITS</td>\n",
       "      <td>ABBA</td>\n",
       "      <td>1992</td>\n",
       "    </tr>\n",
       "    <tr>\n",
       "      <th>2</th>\n",
       "      <td>3</td>\n",
       "      <td>SGT PEPPER'S LONELY HEARTS CLUB BAND</td>\n",
       "      <td>BEATLES</td>\n",
       "      <td>1967</td>\n",
       "    </tr>\n",
       "    <tr>\n",
       "      <th>3</th>\n",
       "      <td>4</td>\n",
       "      <td>21</td>\n",
       "      <td>ADELE</td>\n",
       "      <td>2011</td>\n",
       "    </tr>\n",
       "    <tr>\n",
       "      <th>4</th>\n",
       "      <td>5</td>\n",
       "      <td>WHAT'S THE STORY MORNING GLORY</td>\n",
       "      <td>OASIS</td>\n",
       "      <td>1995</td>\n",
       "    </tr>\n",
       "  </tbody>\n",
       "</table>\n",
       "</div>"
      ],
      "text/plain": [
       "   Pos                                 Tytul  Artysta   Rok\n",
       "0    1                         GREATEST HITS    QUEEN  1981\n",
       "1    2                  GOLD - GREATEST HITS     ABBA  1992\n",
       "2    3  SGT PEPPER'S LONELY HEARTS CLUB BAND  BEATLES  1967\n",
       "3    4                                    21    ADELE  2011\n",
       "4    5        WHAT'S THE STORY MORNING GLORY    OASIS  1995"
      ]
     },
     "execution_count": 23,
     "metadata": {},
     "output_type": "execute_result"
    }
   ],
   "source": [
    "df.drop(columns=['Max poz'],inplace=True)\n",
    "df.head(5)"
   ]
  },
  {
   "cell_type": "markdown",
   "id": "f8da3813-442a-48b6-9af2-4374217e0f44",
   "metadata": {},
   "source": [
    "## W którym roku wyszło najwięcej albumów znajdujących się na liście?"
   ]
  },
  {
   "cell_type": "code",
   "execution_count": 24,
   "id": "6df47374-1851-404e-8b0e-cd9e2c916ec7",
   "metadata": {},
   "outputs": [
    {
     "data": {
      "text/plain": [
       "Rok\n",
       "2000    4\n",
       "1987    4\n",
       "2006    3\n",
       "1977    3\n",
       "1998    3\n",
       "2004    3\n",
       "1997    3\n",
       "2008    2\n",
       "2005    2\n",
       "1992    2\n",
       "Name: count, dtype: int64"
      ]
     },
     "execution_count": 24,
     "metadata": {},
     "output_type": "execute_result"
    }
   ],
   "source": [
    "df['Rok'].value_counts().head(10)"
   ]
  },
  {
   "cell_type": "code",
   "execution_count": null,
   "id": "56847722-07f0-41bf-a144-d09be12394cd",
   "metadata": {},
   "outputs": [],
   "source": []
  },
  {
   "cell_type": "markdown",
   "id": "34b45fae-8eb8-49b8-9a68-daabc96b701b",
   "metadata": {},
   "source": [
    "## Ile albumów wydanych między 1960 a 1990 rokiem włącznie znajduje się na liście?"
   ]
  },
  {
   "cell_type": "code",
   "execution_count": 25,
   "id": "3b55f495-0622-4441-b918-588bba81adb0",
   "metadata": {},
   "outputs": [],
   "source": [
    "filt=((df['Rok']>=1960) & (df['Rok']<=1990))"
   ]
  },
  {
   "cell_type": "code",
   "execution_count": 26,
   "id": "68713cfe-d6ca-43f0-b577-6600a9a9d77c",
   "metadata": {},
   "outputs": [
    {
     "data": {
      "text/plain": [
       "22"
      ]
     },
     "execution_count": 26,
     "metadata": {},
     "output_type": "execute_result"
    }
   ],
   "source": [
    "df.loc[filt,'Tytul'].count()"
   ]
  },
  {
   "cell_type": "markdown",
   "id": "0f65803d-4511-4fc2-a6cd-8aa60fcfad0d",
   "metadata": {},
   "source": [
    "## W którym roku wydany został najmłodszy album na liście?"
   ]
  },
  {
   "cell_type": "code",
   "execution_count": 27,
   "id": "833545dc-d043-4dce-a58b-35823adab809",
   "metadata": {},
   "outputs": [
    {
     "data": {
      "text/plain": [
       "1965"
      ]
     },
     "execution_count": 27,
     "metadata": {},
     "output_type": "execute_result"
    }
   ],
   "source": [
    "df['Rok'].min()"
   ]
  },
  {
   "cell_type": "markdown",
   "id": "6cd6e56b-84a3-4321-967c-c5a2a91ebb2a",
   "metadata": {},
   "source": [
    "## Przygotuj listę najwcześniej wydanych albumów każdego artysty, który znalazł się na liście."
   ]
  },
  {
   "cell_type": "code",
   "execution_count": 28,
   "id": "32ef9e6d-f499-4abc-a64b-5cae53b2a89a",
   "metadata": {},
   "outputs": [
    {
     "data": {
      "text/html": [
       "<div>\n",
       "<style scoped>\n",
       "    .dataframe tbody tr th:only-of-type {\n",
       "        vertical-align: middle;\n",
       "    }\n",
       "\n",
       "    .dataframe tbody tr th {\n",
       "        vertical-align: top;\n",
       "    }\n",
       "\n",
       "    .dataframe thead th {\n",
       "        text-align: right;\n",
       "    }\n",
       "</style>\n",
       "<table border=\"1\" class=\"dataframe\">\n",
       "  <thead>\n",
       "    <tr style=\"text-align: right;\">\n",
       "      <th></th>\n",
       "      <th>Pos</th>\n",
       "      <th>Tytul</th>\n",
       "      <th>Rok</th>\n",
       "    </tr>\n",
       "    <tr>\n",
       "      <th>Artysta</th>\n",
       "      <th></th>\n",
       "      <th></th>\n",
       "      <th></th>\n",
       "    </tr>\n",
       "  </thead>\n",
       "  <tbody>\n",
       "    <tr>\n",
       "      <th>ABBA</th>\n",
       "      <td>2</td>\n",
       "      <td>GOLD - GREATEST HITS</td>\n",
       "      <td>1975</td>\n",
       "    </tr>\n",
       "    <tr>\n",
       "      <th>ADELE</th>\n",
       "      <td>4</td>\n",
       "      <td>21</td>\n",
       "      <td>2011</td>\n",
       "    </tr>\n",
       "    <tr>\n",
       "      <th>ALANIS MORISSETTE</th>\n",
       "      <td>41</td>\n",
       "      <td>JAGGED LITTLE PILL</td>\n",
       "      <td>1995</td>\n",
       "    </tr>\n",
       "    <tr>\n",
       "      <th>AMY WINEHOUSE</th>\n",
       "      <td>13</td>\n",
       "      <td>BACK TO BLACK</td>\n",
       "      <td>2006</td>\n",
       "    </tr>\n",
       "    <tr>\n",
       "      <th>BEATLES</th>\n",
       "      <td>3</td>\n",
       "      <td>1</td>\n",
       "      <td>1967</td>\n",
       "    </tr>\n",
       "    <tr>\n",
       "      <th>BOB MARLEY &amp; THE WAILERS</th>\n",
       "      <td>16</td>\n",
       "      <td>LEGEND</td>\n",
       "      <td>1984</td>\n",
       "    </tr>\n",
       "    <tr>\n",
       "      <th>COLDPLAY</th>\n",
       "      <td>31</td>\n",
       "      <td>A RUSH OF BLOOD TO THE HEAD</td>\n",
       "      <td>2000</td>\n",
       "    </tr>\n",
       "    <tr>\n",
       "      <th>CORRS</th>\n",
       "      <td>28</td>\n",
       "      <td>TALK ON CORNERS</td>\n",
       "      <td>1997</td>\n",
       "    </tr>\n",
       "    <tr>\n",
       "      <th>DAVID GRAY</th>\n",
       "      <td>26</td>\n",
       "      <td>WHITE LADDER</td>\n",
       "      <td>1998</td>\n",
       "    </tr>\n",
       "    <tr>\n",
       "      <th>DIDO</th>\n",
       "      <td>25</td>\n",
       "      <td>LIFE FOR RENT</td>\n",
       "      <td>2000</td>\n",
       "    </tr>\n",
       "    <tr>\n",
       "      <th>DIRE STRAITS</th>\n",
       "      <td>8</td>\n",
       "      <td>BROTHERS IN ARMS</td>\n",
       "      <td>1985</td>\n",
       "    </tr>\n",
       "    <tr>\n",
       "      <th>ED SHEERAN</th>\n",
       "      <td>49</td>\n",
       "      <td>X</td>\n",
       "      <td>2014</td>\n",
       "    </tr>\n",
       "    <tr>\n",
       "      <th>EMINEM</th>\n",
       "      <td>55</td>\n",
       "      <td>THE MARSHALL MATHERS LP</td>\n",
       "      <td>2000</td>\n",
       "    </tr>\n",
       "    <tr>\n",
       "      <th>FLEETWOOD MAC</th>\n",
       "      <td>11</td>\n",
       "      <td>RUMOURS</td>\n",
       "      <td>1977</td>\n",
       "    </tr>\n",
       "    <tr>\n",
       "      <th>GEORGE MICHAEL</th>\n",
       "      <td>53</td>\n",
       "      <td>LADIES &amp; GENTLEMEN - THE BEST OF</td>\n",
       "      <td>1998</td>\n",
       "    </tr>\n",
       "    <tr>\n",
       "      <th>JAMES BLUNT</th>\n",
       "      <td>17</td>\n",
       "      <td>BACK TO BEDLAM</td>\n",
       "      <td>2004</td>\n",
       "    </tr>\n",
       "    <tr>\n",
       "      <th>JEFF WAYNE</th>\n",
       "      <td>37</td>\n",
       "      <td>THE WAR OF THE WORLDS</td>\n",
       "      <td>1978</td>\n",
       "    </tr>\n",
       "    <tr>\n",
       "      <th>KEANE</th>\n",
       "      <td>35</td>\n",
       "      <td>HOPES AND FEARS</td>\n",
       "      <td>2004</td>\n",
       "    </tr>\n",
       "    <tr>\n",
       "      <th>KINGS OF LEON</th>\n",
       "      <td>33</td>\n",
       "      <td>ONLY BY THE NIGHT</td>\n",
       "      <td>2008</td>\n",
       "    </tr>\n",
       "    <tr>\n",
       "      <th>LADY GAGA</th>\n",
       "      <td>30</td>\n",
       "      <td>THE FAME</td>\n",
       "      <td>2008</td>\n",
       "    </tr>\n",
       "    <tr>\n",
       "      <th>LEONA LEWIS</th>\n",
       "      <td>23</td>\n",
       "      <td>SPIRIT</td>\n",
       "      <td>2007</td>\n",
       "    </tr>\n",
       "    <tr>\n",
       "      <th>MADONNA</th>\n",
       "      <td>12</td>\n",
       "      <td>THE IMMACULATE COLLECTION</td>\n",
       "      <td>1990</td>\n",
       "    </tr>\n",
       "    <tr>\n",
       "      <th>MEAT LOAF</th>\n",
       "      <td>19</td>\n",
       "      <td>BAT OUT OF HELL</td>\n",
       "      <td>1977</td>\n",
       "    </tr>\n",
       "    <tr>\n",
       "      <th>MICHAEL BUBLE</th>\n",
       "      <td>24</td>\n",
       "      <td>CRAZY LOVE</td>\n",
       "      <td>2009</td>\n",
       "    </tr>\n",
       "    <tr>\n",
       "      <th>MICHAEL JACKSON</th>\n",
       "      <td>6</td>\n",
       "      <td>BAD</td>\n",
       "      <td>1982</td>\n",
       "    </tr>\n",
       "    <tr>\n",
       "      <th>MIKE OLDFIELD</th>\n",
       "      <td>42</td>\n",
       "      <td>TUBULAR BELLS</td>\n",
       "      <td>1973</td>\n",
       "    </tr>\n",
       "    <tr>\n",
       "      <th>NORAH JONES</th>\n",
       "      <td>50</td>\n",
       "      <td>COME AWAY WITH ME</td>\n",
       "      <td>2002</td>\n",
       "    </tr>\n",
       "    <tr>\n",
       "      <th>OASIS</th>\n",
       "      <td>5</td>\n",
       "      <td>WHAT'S THE STORY MORNING GLORY</td>\n",
       "      <td>1995</td>\n",
       "    </tr>\n",
       "    <tr>\n",
       "      <th>ORIGINAL CAST RECORDING</th>\n",
       "      <td>52</td>\n",
       "      <td>THE SOUND OF MUSIC</td>\n",
       "      <td>1965</td>\n",
       "    </tr>\n",
       "    <tr>\n",
       "      <th>ORIGINAL SOUNDTRACK</th>\n",
       "      <td>22</td>\n",
       "      <td>DIRTY DANCING</td>\n",
       "      <td>1977</td>\n",
       "    </tr>\n",
       "    <tr>\n",
       "      <th>PAUL SIMON</th>\n",
       "      <td>51</td>\n",
       "      <td>GRACELAND</td>\n",
       "      <td>1986</td>\n",
       "    </tr>\n",
       "    <tr>\n",
       "      <th>PHIL COLLINS</th>\n",
       "      <td>39</td>\n",
       "      <td>BUT SERIOUSLY</td>\n",
       "      <td>1989</td>\n",
       "    </tr>\n",
       "    <tr>\n",
       "      <th>PINK FLOYD</th>\n",
       "      <td>7</td>\n",
       "      <td>THE DARK SIDE OF THE MOON</td>\n",
       "      <td>1973</td>\n",
       "    </tr>\n",
       "    <tr>\n",
       "      <th>QUEEN</th>\n",
       "      <td>1</td>\n",
       "      <td>GREATEST HITS</td>\n",
       "      <td>1981</td>\n",
       "    </tr>\n",
       "    <tr>\n",
       "      <th>REM</th>\n",
       "      <td>60</td>\n",
       "      <td>AUTOMATIC FOR THE PEOPLE</td>\n",
       "      <td>1992</td>\n",
       "    </tr>\n",
       "    <tr>\n",
       "      <th>ROBBIE WILLIAMS</th>\n",
       "      <td>48</td>\n",
       "      <td>I'VE BEEN EXPECTING YOU</td>\n",
       "      <td>1998</td>\n",
       "    </tr>\n",
       "    <tr>\n",
       "      <th>SCISSOR SISTERS</th>\n",
       "      <td>38</td>\n",
       "      <td>SCISSOR SISTERS</td>\n",
       "      <td>2004</td>\n",
       "    </tr>\n",
       "    <tr>\n",
       "      <th>SHANIA TWAIN</th>\n",
       "      <td>15</td>\n",
       "      <td>COME ON OVER</td>\n",
       "      <td>1997</td>\n",
       "    </tr>\n",
       "    <tr>\n",
       "      <th>SIMON &amp; GARFUNKEL</th>\n",
       "      <td>21</td>\n",
       "      <td>BRIDGE OVER TROUBLED WATER</td>\n",
       "      <td>1970</td>\n",
       "    </tr>\n",
       "    <tr>\n",
       "      <th>SIMPLY RED</th>\n",
       "      <td>14</td>\n",
       "      <td>STARS</td>\n",
       "      <td>1991</td>\n",
       "    </tr>\n",
       "    <tr>\n",
       "      <th>SNOW PATROL</th>\n",
       "      <td>58</td>\n",
       "      <td>EYES OPEN</td>\n",
       "      <td>2006</td>\n",
       "    </tr>\n",
       "    <tr>\n",
       "      <th>SPICE GIRLS</th>\n",
       "      <td>29</td>\n",
       "      <td>SPICE</td>\n",
       "      <td>1996</td>\n",
       "    </tr>\n",
       "    <tr>\n",
       "      <th>TAKE THAT</th>\n",
       "      <td>34</td>\n",
       "      <td>BEAUTIFUL WORLD</td>\n",
       "      <td>2005</td>\n",
       "    </tr>\n",
       "    <tr>\n",
       "      <th>TRACY CHAPMAN</th>\n",
       "      <td>44</td>\n",
       "      <td>TRACY CHAPMAN</td>\n",
       "      <td>1988</td>\n",
       "    </tr>\n",
       "    <tr>\n",
       "      <th>TRAVIS</th>\n",
       "      <td>43</td>\n",
       "      <td>THE MAN WHO</td>\n",
       "      <td>1999</td>\n",
       "    </tr>\n",
       "    <tr>\n",
       "      <th>U2</th>\n",
       "      <td>36</td>\n",
       "      <td>THE JOSHUA TREE</td>\n",
       "      <td>1987</td>\n",
       "    </tr>\n",
       "    <tr>\n",
       "      <th>VERVE</th>\n",
       "      <td>18</td>\n",
       "      <td>URBAN HYMNS</td>\n",
       "      <td>1997</td>\n",
       "    </tr>\n",
       "  </tbody>\n",
       "</table>\n",
       "</div>"
      ],
      "text/plain": [
       "                          Pos                             Tytul   Rok\n",
       "Artysta                                                              \n",
       "ABBA                        2              GOLD - GREATEST HITS  1975\n",
       "ADELE                       4                                21  2011\n",
       "ALANIS MORISSETTE          41                JAGGED LITTLE PILL  1995\n",
       "AMY WINEHOUSE              13                     BACK TO BLACK  2006\n",
       "BEATLES                     3                                 1  1967\n",
       "BOB MARLEY & THE WAILERS   16                            LEGEND  1984\n",
       "COLDPLAY                   31       A RUSH OF BLOOD TO THE HEAD  2000\n",
       "CORRS                      28                   TALK ON CORNERS  1997\n",
       "DAVID GRAY                 26                      WHITE LADDER  1998\n",
       "DIDO                       25                     LIFE FOR RENT  2000\n",
       "DIRE STRAITS                8                  BROTHERS IN ARMS  1985\n",
       "ED SHEERAN                 49                                 X  2014\n",
       "EMINEM                     55           THE MARSHALL MATHERS LP  2000\n",
       "FLEETWOOD MAC              11                           RUMOURS  1977\n",
       "GEORGE MICHAEL             53  LADIES & GENTLEMEN - THE BEST OF  1998\n",
       "JAMES BLUNT                17                    BACK TO BEDLAM  2004\n",
       "JEFF WAYNE                 37             THE WAR OF THE WORLDS  1978\n",
       "KEANE                      35                   HOPES AND FEARS  2004\n",
       "KINGS OF LEON              33                 ONLY BY THE NIGHT  2008\n",
       "LADY GAGA                  30                          THE FAME  2008\n",
       "LEONA LEWIS                23                            SPIRIT  2007\n",
       "MADONNA                    12         THE IMMACULATE COLLECTION  1990\n",
       "MEAT LOAF                  19                   BAT OUT OF HELL  1977\n",
       "MICHAEL BUBLE              24                        CRAZY LOVE  2009\n",
       "MICHAEL JACKSON             6                               BAD  1982\n",
       "MIKE OLDFIELD              42                     TUBULAR BELLS  1973\n",
       "NORAH JONES                50                 COME AWAY WITH ME  2002\n",
       "OASIS                       5    WHAT'S THE STORY MORNING GLORY  1995\n",
       "ORIGINAL CAST RECORDING    52                THE SOUND OF MUSIC  1965\n",
       "ORIGINAL SOUNDTRACK        22                     DIRTY DANCING  1977\n",
       "PAUL SIMON                 51                         GRACELAND  1986\n",
       "PHIL COLLINS               39                     BUT SERIOUSLY  1989\n",
       "PINK FLOYD                  7         THE DARK SIDE OF THE MOON  1973\n",
       "QUEEN                       1                     GREATEST HITS  1981\n",
       "REM                        60          AUTOMATIC FOR THE PEOPLE  1992\n",
       "ROBBIE WILLIAMS            48           I'VE BEEN EXPECTING YOU  1998\n",
       "SCISSOR SISTERS            38                   SCISSOR SISTERS  2004\n",
       "SHANIA TWAIN               15                      COME ON OVER  1997\n",
       "SIMON & GARFUNKEL          21        BRIDGE OVER TROUBLED WATER  1970\n",
       "SIMPLY RED                 14                             STARS  1991\n",
       "SNOW PATROL                58                         EYES OPEN  2006\n",
       "SPICE GIRLS                29                             SPICE  1996\n",
       "TAKE THAT                  34                   BEAUTIFUL WORLD  2005\n",
       "TRACY CHAPMAN              44                     TRACY CHAPMAN  1988\n",
       "TRAVIS                     43                       THE MAN WHO  1999\n",
       "U2                         36                   THE JOSHUA TREE  1987\n",
       "VERVE                      18                       URBAN HYMNS  1997"
      ]
     },
     "execution_count": 28,
     "metadata": {},
     "output_type": "execute_result"
    }
   ],
   "source": [
    "df.groupby('Artysta').min()"
   ]
  },
  {
   "cell_type": "markdown",
   "id": "028de275-031e-4b5c-84f9-83bdebb2a5ff",
   "metadata": {},
   "source": [
    "## Listę zapisz do pliku csv."
   ]
  },
  {
   "cell_type": "code",
   "execution_count": 29,
   "id": "dd23b728-947c-483c-b099-69818320999b",
   "metadata": {},
   "outputs": [],
   "source": [
    "df.to_csv('/home/tomasz/Desktop/Kodilla/Pandas/albums.csv')"
   ]
  },
  {
   "cell_type": "code",
   "execution_count": null,
   "id": "064edb4c-ff17-4090-aa0f-9856c309bc6c",
   "metadata": {},
   "outputs": [],
   "source": []
  },
  {
   "cell_type": "code",
   "execution_count": null,
   "id": "eb19d595-3a41-4bfb-8a48-91e7e0ce4369",
   "metadata": {},
   "outputs": [],
   "source": []
  },
  {
   "cell_type": "code",
   "execution_count": null,
   "id": "b26cc5f8-8043-405b-aad8-b58dd8f0ef33",
   "metadata": {},
   "outputs": [],
   "source": []
  },
  {
   "cell_type": "code",
   "execution_count": null,
   "id": "88231055-fc59-48a6-9f18-216dd1c4494e",
   "metadata": {},
   "outputs": [],
   "source": []
  },
  {
   "cell_type": "code",
   "execution_count": null,
   "id": "792810fd-f331-4a91-8587-61972444978c",
   "metadata": {},
   "outputs": [],
   "source": []
  },
  {
   "cell_type": "code",
   "execution_count": null,
   "id": "666bdf71-30d6-4d83-ae76-367a708b1bda",
   "metadata": {},
   "outputs": [],
   "source": []
  },
  {
   "cell_type": "code",
   "execution_count": null,
   "id": "16875d07-66ab-4f1f-9478-60e6713073ad",
   "metadata": {},
   "outputs": [],
   "source": []
  },
  {
   "cell_type": "code",
   "execution_count": null,
   "id": "a91e5181-fd96-4326-b6af-d69b7f654fed",
   "metadata": {},
   "outputs": [],
   "source": []
  },
  {
   "cell_type": "code",
   "execution_count": null,
   "id": "01e84b1e-1226-4315-87bf-212f46c1c5cb",
   "metadata": {},
   "outputs": [],
   "source": []
  },
  {
   "cell_type": "code",
   "execution_count": null,
   "id": "7a882427-9b09-410a-ad48-074ff81619d3",
   "metadata": {},
   "outputs": [],
   "source": []
  },
  {
   "cell_type": "code",
   "execution_count": null,
   "id": "71405143-d131-418e-853f-abb1c4807f81",
   "metadata": {},
   "outputs": [],
   "source": []
  },
  {
   "cell_type": "code",
   "execution_count": null,
   "id": "2a8cb8dd-fe95-4c2a-ae44-2f69fb58b846",
   "metadata": {},
   "outputs": [],
   "source": []
  },
  {
   "cell_type": "code",
   "execution_count": null,
   "id": "828492e4-e403-465f-9fe2-c88fd937906f",
   "metadata": {},
   "outputs": [],
   "source": []
  },
  {
   "cell_type": "code",
   "execution_count": null,
   "id": "3a7051f2-3b05-4d07-9b74-a267569bd8cb",
   "metadata": {},
   "outputs": [],
   "source": []
  },
  {
   "cell_type": "code",
   "execution_count": null,
   "id": "e8c66c92-e94b-474f-9317-02673cf7850b",
   "metadata": {},
   "outputs": [],
   "source": []
  },
  {
   "cell_type": "code",
   "execution_count": null,
   "id": "7adfb5c2-1a4e-453b-bcea-ed084cab3d97",
   "metadata": {},
   "outputs": [],
   "source": []
  },
  {
   "cell_type": "code",
   "execution_count": null,
   "id": "386c48c0-eb73-4aa9-a2f4-b823d51cf3ce",
   "metadata": {},
   "outputs": [],
   "source": []
  },
  {
   "cell_type": "code",
   "execution_count": null,
   "id": "52963d93-4d4f-4aad-9fc3-3492a7c330af",
   "metadata": {},
   "outputs": [],
   "source": []
  },
  {
   "cell_type": "code",
   "execution_count": null,
   "id": "770cee1f-ad1a-4cc9-9698-f9a75384b396",
   "metadata": {},
   "outputs": [],
   "source": []
  },
  {
   "cell_type": "code",
   "execution_count": null,
   "id": "832e2804-cfeb-4481-a495-d3ef89931aa4",
   "metadata": {},
   "outputs": [],
   "source": []
  },
  {
   "cell_type": "code",
   "execution_count": null,
   "id": "685bd8a0-139e-4a22-81d5-c4bb087bc786",
   "metadata": {},
   "outputs": [],
   "source": []
  },
  {
   "cell_type": "code",
   "execution_count": null,
   "id": "969e2676-3337-4d93-9984-b5dc34769493",
   "metadata": {},
   "outputs": [],
   "source": []
  },
  {
   "cell_type": "code",
   "execution_count": null,
   "id": "41cd87c4-0339-484a-bbc6-93ab101895f8",
   "metadata": {},
   "outputs": [],
   "source": []
  },
  {
   "cell_type": "code",
   "execution_count": null,
   "id": "9bf344cc-3644-42fb-96bc-9d6a40fd5c6a",
   "metadata": {},
   "outputs": [],
   "source": []
  },
  {
   "cell_type": "code",
   "execution_count": null,
   "id": "760b8c5e-5d9f-4df8-91b8-8e63fa6e003f",
   "metadata": {},
   "outputs": [],
   "source": []
  },
  {
   "cell_type": "code",
   "execution_count": null,
   "id": "a9cbf03b-8ab0-4fff-ad4a-0851595920ac",
   "metadata": {},
   "outputs": [],
   "source": []
  },
  {
   "cell_type": "code",
   "execution_count": null,
   "id": "0486ae73-c0fb-4875-91b8-60c10394a4fc",
   "metadata": {},
   "outputs": [],
   "source": []
  },
  {
   "cell_type": "code",
   "execution_count": null,
   "id": "b79c5ab4-cc2b-4be6-ad5f-324d1eecd1f1",
   "metadata": {},
   "outputs": [],
   "source": []
  },
  {
   "cell_type": "code",
   "execution_count": null,
   "id": "26e12557-c17c-4037-9607-0e2c2d4cc9e1",
   "metadata": {},
   "outputs": [],
   "source": []
  },
  {
   "cell_type": "code",
   "execution_count": null,
   "id": "015e768b-a063-44a8-9829-e0a192f7ca24",
   "metadata": {},
   "outputs": [],
   "source": []
  },
  {
   "cell_type": "code",
   "execution_count": null,
   "id": "b4c22ec2-230d-4080-ac69-0c40d17e6e7c",
   "metadata": {},
   "outputs": [],
   "source": []
  },
  {
   "cell_type": "code",
   "execution_count": null,
   "id": "73b547ec-94d8-40a0-aa27-1bdde49f0df3",
   "metadata": {},
   "outputs": [],
   "source": []
  },
  {
   "cell_type": "code",
   "execution_count": null,
   "id": "ffe88de7-0e19-4cc4-84c6-e3a0da135568",
   "metadata": {},
   "outputs": [],
   "source": []
  },
  {
   "cell_type": "code",
   "execution_count": null,
   "id": "7ba42a27-44b6-41ba-8d99-c05b10880fd2",
   "metadata": {},
   "outputs": [],
   "source": []
  },
  {
   "cell_type": "code",
   "execution_count": null,
   "id": "2be9d1f9-c312-4cfd-84f4-902c40c572ff",
   "metadata": {},
   "outputs": [],
   "source": []
  },
  {
   "cell_type": "code",
   "execution_count": null,
   "id": "90a7b47b-1441-4bb0-bc6f-556e1e6efcf5",
   "metadata": {},
   "outputs": [],
   "source": []
  },
  {
   "cell_type": "code",
   "execution_count": null,
   "id": "7b2f5101-6587-4eeb-9f51-bed82fb6fbd1",
   "metadata": {},
   "outputs": [],
   "source": []
  },
  {
   "cell_type": "code",
   "execution_count": null,
   "id": "6d13e56d-7e8b-4850-86be-54c8292aa36a",
   "metadata": {},
   "outputs": [],
   "source": []
  },
  {
   "cell_type": "code",
   "execution_count": null,
   "id": "f1d899c7-0d5f-45be-9086-0da20524a083",
   "metadata": {},
   "outputs": [],
   "source": []
  },
  {
   "cell_type": "code",
   "execution_count": null,
   "id": "5e7eb3e4-91c9-4ade-88f6-fb719d45dc89",
   "metadata": {},
   "outputs": [],
   "source": []
  },
  {
   "cell_type": "code",
   "execution_count": null,
   "id": "7249a94c-3101-42b5-bdec-ca6dbc2a5c62",
   "metadata": {},
   "outputs": [],
   "source": []
  },
  {
   "cell_type": "code",
   "execution_count": null,
   "id": "db11dd69-4a45-46d6-9bd8-625e37da78a6",
   "metadata": {},
   "outputs": [],
   "source": []
  },
  {
   "cell_type": "code",
   "execution_count": null,
   "id": "bb2c82a1-215e-4920-acba-eb285b513b9c",
   "metadata": {},
   "outputs": [],
   "source": []
  },
  {
   "cell_type": "code",
   "execution_count": null,
   "id": "6761b798-6d9c-4044-91bf-ad4c847499fc",
   "metadata": {},
   "outputs": [],
   "source": []
  },
  {
   "cell_type": "code",
   "execution_count": null,
   "id": "0793d286-e13e-4eb9-900a-b97e9badfdd8",
   "metadata": {},
   "outputs": [],
   "source": []
  },
  {
   "cell_type": "code",
   "execution_count": null,
   "id": "60510af3-2b19-44a3-b7de-77985e76b422",
   "metadata": {},
   "outputs": [],
   "source": []
  },
  {
   "cell_type": "code",
   "execution_count": null,
   "id": "58a1052e-dc5f-4e06-a55a-8c359da856a9",
   "metadata": {},
   "outputs": [],
   "source": []
  },
  {
   "cell_type": "code",
   "execution_count": null,
   "id": "d444c9d9-d3b3-4a1f-9f87-3eaec7203a2c",
   "metadata": {},
   "outputs": [],
   "source": []
  },
  {
   "cell_type": "code",
   "execution_count": 30,
   "id": "8a3d6c37-1abe-4859-946c-fde3104e1539",
   "metadata": {},
   "outputs": [
    {
     "ename": "KeyError",
     "evalue": "'ARTYSTA'",
     "output_type": "error",
     "traceback": [
      "\u001b[0;31m---------------------------------------------------------------------------\u001b[0m",
      "\u001b[0;31mKeyError\u001b[0m                                  Traceback (most recent call last)",
      "File \u001b[0;32m~/anaconda3/envs/my_env/lib/python3.11/site-packages/pandas/core/indexes/base.py:3653\u001b[0m, in \u001b[0;36mIndex.get_loc\u001b[0;34m(self, key)\u001b[0m\n\u001b[1;32m   3652\u001b[0m \u001b[38;5;28;01mtry\u001b[39;00m:\n\u001b[0;32m-> 3653\u001b[0m     \u001b[38;5;28;01mreturn\u001b[39;00m \u001b[38;5;28;43mself\u001b[39;49m\u001b[38;5;241;43m.\u001b[39;49m\u001b[43m_engine\u001b[49m\u001b[38;5;241;43m.\u001b[39;49m\u001b[43mget_loc\u001b[49m\u001b[43m(\u001b[49m\u001b[43mcasted_key\u001b[49m\u001b[43m)\u001b[49m\n\u001b[1;32m   3654\u001b[0m \u001b[38;5;28;01mexcept\u001b[39;00m \u001b[38;5;167;01mKeyError\u001b[39;00m \u001b[38;5;28;01mas\u001b[39;00m err:\n",
      "File \u001b[0;32m~/anaconda3/envs/my_env/lib/python3.11/site-packages/pandas/_libs/index.pyx:147\u001b[0m, in \u001b[0;36mpandas._libs.index.IndexEngine.get_loc\u001b[0;34m()\u001b[0m\n",
      "File \u001b[0;32m~/anaconda3/envs/my_env/lib/python3.11/site-packages/pandas/_libs/index.pyx:176\u001b[0m, in \u001b[0;36mpandas._libs.index.IndexEngine.get_loc\u001b[0;34m()\u001b[0m\n",
      "File \u001b[0;32mpandas/_libs/hashtable_class_helper.pxi:7080\u001b[0m, in \u001b[0;36mpandas._libs.hashtable.PyObjectHashTable.get_item\u001b[0;34m()\u001b[0m\n",
      "File \u001b[0;32mpandas/_libs/hashtable_class_helper.pxi:7088\u001b[0m, in \u001b[0;36mpandas._libs.hashtable.PyObjectHashTable.get_item\u001b[0;34m()\u001b[0m\n",
      "\u001b[0;31mKeyError\u001b[0m: 'ARTYSTA'",
      "\nThe above exception was the direct cause of the following exception:\n",
      "\u001b[0;31mKeyError\u001b[0m                                  Traceback (most recent call last)",
      "Cell \u001b[0;32mIn[30], line 1\u001b[0m\n\u001b[0;32m----> 1\u001b[0m \u001b[43mdf\u001b[49m\u001b[43m[\u001b[49m\u001b[38;5;124;43m'\u001b[39;49m\u001b[38;5;124;43mARTYSTA\u001b[39;49m\u001b[38;5;124;43m'\u001b[39;49m\u001b[43m]\u001b[49m\n",
      "File \u001b[0;32m~/anaconda3/envs/my_env/lib/python3.11/site-packages/pandas/core/frame.py:3761\u001b[0m, in \u001b[0;36mDataFrame.__getitem__\u001b[0;34m(self, key)\u001b[0m\n\u001b[1;32m   3759\u001b[0m \u001b[38;5;28;01mif\u001b[39;00m \u001b[38;5;28mself\u001b[39m\u001b[38;5;241m.\u001b[39mcolumns\u001b[38;5;241m.\u001b[39mnlevels \u001b[38;5;241m>\u001b[39m \u001b[38;5;241m1\u001b[39m:\n\u001b[1;32m   3760\u001b[0m     \u001b[38;5;28;01mreturn\u001b[39;00m \u001b[38;5;28mself\u001b[39m\u001b[38;5;241m.\u001b[39m_getitem_multilevel(key)\n\u001b[0;32m-> 3761\u001b[0m indexer \u001b[38;5;241m=\u001b[39m \u001b[38;5;28;43mself\u001b[39;49m\u001b[38;5;241;43m.\u001b[39;49m\u001b[43mcolumns\u001b[49m\u001b[38;5;241;43m.\u001b[39;49m\u001b[43mget_loc\u001b[49m\u001b[43m(\u001b[49m\u001b[43mkey\u001b[49m\u001b[43m)\u001b[49m\n\u001b[1;32m   3762\u001b[0m \u001b[38;5;28;01mif\u001b[39;00m is_integer(indexer):\n\u001b[1;32m   3763\u001b[0m     indexer \u001b[38;5;241m=\u001b[39m [indexer]\n",
      "File \u001b[0;32m~/anaconda3/envs/my_env/lib/python3.11/site-packages/pandas/core/indexes/base.py:3655\u001b[0m, in \u001b[0;36mIndex.get_loc\u001b[0;34m(self, key)\u001b[0m\n\u001b[1;32m   3653\u001b[0m     \u001b[38;5;28;01mreturn\u001b[39;00m \u001b[38;5;28mself\u001b[39m\u001b[38;5;241m.\u001b[39m_engine\u001b[38;5;241m.\u001b[39mget_loc(casted_key)\n\u001b[1;32m   3654\u001b[0m \u001b[38;5;28;01mexcept\u001b[39;00m \u001b[38;5;167;01mKeyError\u001b[39;00m \u001b[38;5;28;01mas\u001b[39;00m err:\n\u001b[0;32m-> 3655\u001b[0m     \u001b[38;5;28;01mraise\u001b[39;00m \u001b[38;5;167;01mKeyError\u001b[39;00m(key) \u001b[38;5;28;01mfrom\u001b[39;00m \u001b[38;5;21;01merr\u001b[39;00m\n\u001b[1;32m   3656\u001b[0m \u001b[38;5;28;01mexcept\u001b[39;00m \u001b[38;5;167;01mTypeError\u001b[39;00m:\n\u001b[1;32m   3657\u001b[0m     \u001b[38;5;66;03m# If we have a listlike key, _check_indexing_error will raise\u001b[39;00m\n\u001b[1;32m   3658\u001b[0m     \u001b[38;5;66;03m#  InvalidIndexError. Otherwise we fall through and re-raise\u001b[39;00m\n\u001b[1;32m   3659\u001b[0m     \u001b[38;5;66;03m#  the TypeError.\u001b[39;00m\n\u001b[1;32m   3660\u001b[0m     \u001b[38;5;28mself\u001b[39m\u001b[38;5;241m.\u001b[39m_check_indexing_error(key)\n",
      "\u001b[0;31mKeyError\u001b[0m: 'ARTYSTA'"
     ]
    }
   ],
   "source": [
    "df['ARTYSTA']"
   ]
  },
  {
   "cell_type": "code",
   "execution_count": null,
   "id": "7ddf5be7-d441-40b4-bca0-5ea77cb9b293",
   "metadata": {},
   "outputs": [],
   "source": []
  },
  {
   "cell_type": "code",
   "execution_count": null,
   "id": "6545e6c4-d6ae-48a5-896c-2014ef3ed17e",
   "metadata": {},
   "outputs": [],
   "source": []
  },
  {
   "cell_type": "code",
   "execution_count": null,
   "id": "403fa89e-2afe-4cd0-a139-5e714a3f394b",
   "metadata": {},
   "outputs": [],
   "source": []
  },
  {
   "cell_type": "code",
   "execution_count": null,
   "id": "9ccbe753-a0b5-4e57-9d9e-6d22ea76ccae",
   "metadata": {},
   "outputs": [],
   "source": []
  },
  {
   "cell_type": "code",
   "execution_count": null,
   "id": "72db9563-15c6-4185-9d68-623053536a9f",
   "metadata": {},
   "outputs": [],
   "source": []
  },
  {
   "cell_type": "code",
   "execution_count": null,
   "id": "d5ac4c1b-d35c-4c18-a8d3-4bb58469610d",
   "metadata": {},
   "outputs": [],
   "source": []
  },
  {
   "cell_type": "code",
   "execution_count": null,
   "id": "8bd5235e-4873-419e-802e-74021a9a32b4",
   "metadata": {},
   "outputs": [],
   "source": []
  },
  {
   "cell_type": "code",
   "execution_count": null,
   "id": "e94127cb-1062-44f3-baf0-4e08a6b10c90",
   "metadata": {},
   "outputs": [],
   "source": []
  },
  {
   "cell_type": "code",
   "execution_count": null,
   "id": "04253a3f-2869-41e1-b58a-ad8de3608b5b",
   "metadata": {},
   "outputs": [],
   "source": []
  },
  {
   "cell_type": "code",
   "execution_count": null,
   "id": "9a851876-b55d-43a0-bb63-fb8bee5c1372",
   "metadata": {},
   "outputs": [],
   "source": []
  },
  {
   "cell_type": "code",
   "execution_count": null,
   "id": "fb9e11d9-15a9-465f-912b-bc0e1c6f4a1b",
   "metadata": {},
   "outputs": [],
   "source": []
  },
  {
   "cell_type": "code",
   "execution_count": null,
   "id": "a222d63d-4882-48e0-a599-16d258de8302",
   "metadata": {},
   "outputs": [],
   "source": []
  },
  {
   "cell_type": "code",
   "execution_count": null,
   "id": "876c1525-3309-476e-aa14-4b70006acdb4",
   "metadata": {},
   "outputs": [],
   "source": []
  },
  {
   "cell_type": "code",
   "execution_count": null,
   "id": "9fb264fc-f4d3-4e9a-8124-7d89f72c2bd1",
   "metadata": {},
   "outputs": [],
   "source": []
  },
  {
   "cell_type": "code",
   "execution_count": null,
   "id": "0d80f992-72cf-4199-a199-8fddb31e3a70",
   "metadata": {},
   "outputs": [],
   "source": []
  },
  {
   "cell_type": "code",
   "execution_count": null,
   "id": "3bb8e66b-87c4-4fa0-8b1f-04c8a72bc9ea",
   "metadata": {},
   "outputs": [],
   "source": []
  },
  {
   "cell_type": "code",
   "execution_count": null,
   "id": "55345f37-b34f-4a7b-bc14-aaa49815d543",
   "metadata": {},
   "outputs": [],
   "source": []
  },
  {
   "cell_type": "code",
   "execution_count": null,
   "id": "26ec8140-2cf4-45d8-98b0-19830f1d31f6",
   "metadata": {},
   "outputs": [],
   "source": []
  },
  {
   "cell_type": "code",
   "execution_count": null,
   "id": "67c1dd6f-bcb9-41fe-95d9-671181814b59",
   "metadata": {},
   "outputs": [],
   "source": []
  },
  {
   "cell_type": "code",
   "execution_count": null,
   "id": "5637df48-337c-4cfd-9100-b433e8849042",
   "metadata": {},
   "outputs": [],
   "source": []
  },
  {
   "cell_type": "code",
   "execution_count": null,
   "id": "b0f2d118-75ce-4790-86df-0963f14b8b13",
   "metadata": {},
   "outputs": [],
   "source": []
  },
  {
   "cell_type": "code",
   "execution_count": null,
   "id": "e50e2ad3-1886-49b9-9a8e-fe75885e86f3",
   "metadata": {},
   "outputs": [],
   "source": []
  },
  {
   "cell_type": "code",
   "execution_count": null,
   "id": "faba3c5f-aa1c-4181-a468-1a1d41b85dea",
   "metadata": {},
   "outputs": [],
   "source": []
  },
  {
   "cell_type": "code",
   "execution_count": null,
   "id": "2dae6185-21a5-4b8f-9659-618bcb812e71",
   "metadata": {},
   "outputs": [],
   "source": []
  },
  {
   "cell_type": "code",
   "execution_count": null,
   "id": "6843d49e-260f-4f1d-844f-667fe863c7ee",
   "metadata": {},
   "outputs": [],
   "source": []
  },
  {
   "cell_type": "code",
   "execution_count": null,
   "id": "73c0d004-d271-463d-91f4-7b6059d5f57e",
   "metadata": {},
   "outputs": [],
   "source": []
  },
  {
   "cell_type": "code",
   "execution_count": null,
   "id": "88365b33-2af1-4746-8edc-3348674174ea",
   "metadata": {},
   "outputs": [],
   "source": []
  },
  {
   "cell_type": "code",
   "execution_count": null,
   "id": "2afb44ec-4f2d-49d5-aa31-fd93249f3a61",
   "metadata": {},
   "outputs": [],
   "source": []
  },
  {
   "cell_type": "code",
   "execution_count": null,
   "id": "d5e31622-70de-44c2-8df8-85fb5071431f",
   "metadata": {},
   "outputs": [],
   "source": []
  },
  {
   "cell_type": "code",
   "execution_count": null,
   "id": "5a97fe55-f409-47e3-8d64-2c53e1502686",
   "metadata": {},
   "outputs": [],
   "source": []
  },
  {
   "cell_type": "code",
   "execution_count": null,
   "id": "3b2a84d8-178e-4bc1-9eeb-0f46e9733b2c",
   "metadata": {},
   "outputs": [],
   "source": []
  },
  {
   "cell_type": "code",
   "execution_count": null,
   "id": "cbcd3188-fa54-4c8f-8f66-ccc46d8763ed",
   "metadata": {},
   "outputs": [],
   "source": []
  },
  {
   "cell_type": "code",
   "execution_count": null,
   "id": "6cc34c53-7e68-4c6f-96df-9be0171d332d",
   "metadata": {},
   "outputs": [],
   "source": []
  },
  {
   "cell_type": "code",
   "execution_count": null,
   "id": "1bcb0068-d232-40c0-b5f7-71269c748df5",
   "metadata": {},
   "outputs": [],
   "source": []
  },
  {
   "cell_type": "code",
   "execution_count": null,
   "id": "df324e52-018f-4d58-8699-5a550316e6c9",
   "metadata": {},
   "outputs": [],
   "source": []
  }
 ],
 "metadata": {
  "kernelspec": {
   "display_name": "Python 3 (ipykernel)",
   "language": "python",
   "name": "python3"
  },
  "language_info": {
   "codemirror_mode": {
    "name": "ipython",
    "version": 3
   },
   "file_extension": ".py",
   "mimetype": "text/x-python",
   "name": "python",
   "nbconvert_exporter": "python",
   "pygments_lexer": "ipython3",
   "version": "3.11.4"
  }
 },
 "nbformat": 4,
 "nbformat_minor": 5
}
